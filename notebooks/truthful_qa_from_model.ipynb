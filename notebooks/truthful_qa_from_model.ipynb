{
 "cells": [
  {
   "cell_type": "code",
   "execution_count": 1,
   "id": "b82afa6b",
   "metadata": {},
   "outputs": [],
   "source": [
    "%load_ext autoreload\n",
    "%autoreload 2\n"
   ]
  },
  {
   "cell_type": "code",
   "execution_count": 2,
   "id": "44de2974",
   "metadata": {},
   "outputs": [
    {
     "name": "stderr",
     "output_type": "stream",
     "text": [
      "/home/feynman/Documents_Linux/hackathon_ai_plans/steering_env/lib/python3.10/site-packages/tqdm/auto.py:21: TqdmWarning: IProgress not found. Please update jupyter and ipywidgets. See https://ipywidgets.readthedocs.io/en/stable/user_install.html\n",
      "  from .autonotebook import tqdm as notebook_tqdm\n"
     ]
    }
   ],
   "source": [
    "import os\n",
    "import sys\n",
    "import pandas as pd\n",
    "import torch\n",
    "from transformers import AutoTokenizer\n",
    "import numpy as np\n",
    "import warnings\n",
    "\n",
    "import torch\n",
    "from tqdm import tqdm\n",
    "\n",
    "from transformers import AutoModelForCausalLM, AutoTokenizer, BitsAndBytesConfig\n"
   ]
  },
  {
   "cell_type": "code",
   "execution_count": 3,
   "id": "5c185d6c",
   "metadata": {},
   "outputs": [
    {
     "name": "stderr",
     "output_type": "stream",
     "text": [
      "2025-05-10 16:17:41.757049: I tensorflow/core/util/port.cc:153] oneDNN custom operations are on. You may see slightly different numerical results due to floating-point round-off errors from different computation orders. To turn them off, set the environment variable `TF_ENABLE_ONEDNN_OPTS=0`.\n",
      "2025-05-10 16:17:41.772819: E external/local_xla/xla/stream_executor/cuda/cuda_fft.cc:467] Unable to register cuFFT factory: Attempting to register factory for plugin cuFFT when one has already been registered\n",
      "WARNING: All log messages before absl::InitializeLog() is called are written to STDERR\n",
      "E0000 00:00:1746886661.784104   30677 cuda_dnn.cc:8579] Unable to register cuDNN factory: Attempting to register factory for plugin cuDNN when one has already been registered\n",
      "E0000 00:00:1746886661.789509   30677 cuda_blas.cc:1407] Unable to register cuBLAS factory: Attempting to register factory for plugin cuBLAS when one has already been registered\n",
      "W0000 00:00:1746886661.806806   30677 computation_placer.cc:177] computation placer already registered. Please check linkage and avoid linking the same target more than once.\n",
      "W0000 00:00:1746886661.806824   30677 computation_placer.cc:177] computation placer already registered. Please check linkage and avoid linking the same target more than once.\n",
      "W0000 00:00:1746886661.806825   30677 computation_placer.cc:177] computation placer already registered. Please check linkage and avoid linking the same target more than once.\n",
      "W0000 00:00:1746886661.806826   30677 computation_placer.cc:177] computation placer already registered. Please check linkage and avoid linking the same target more than once.\n",
      "2025-05-10 16:17:41.814284: I tensorflow/core/platform/cpu_feature_guard.cc:210] This TensorFlow binary is optimized to use available CPU instructions in performance-critical operations.\n",
      "To enable the following instructions: AVX2 AVX_VNNI FMA, in other operations, rebuild TensorFlow with the appropriate compiler flags.\n"
     ]
    }
   ],
   "source": [
    "\n",
    "from truthfulqa.utilities import format_prompt\n",
    "from truthfulqa.models import find_subsequence, run_answers, run_probs\n",
    "from truthfulqa.evaluate import format_frame\n",
    "\n",
    "import truthfulqa\n",
    "from truthfulqa import  metrics"
   ]
  },
  {
   "cell_type": "code",
   "execution_count": 4,
   "id": "9bfa824f",
   "metadata": {},
   "outputs": [],
   "source": [
    "# preset='qa'\n",
    "preset='null'"
   ]
  },
  {
   "cell_type": "code",
   "execution_count": 5,
   "id": "ed089ed8",
   "metadata": {},
   "outputs": [],
   "source": [
    "output_path = \"./results/truthful_qa/\"\n",
    "data_path = \"./data/truthful_qa_v1/\"\n",
    "questions_file = \"TruthfulQA.csv\"\n",
    "\n",
    "os.makedirs(output_path, exist_ok=True)\n",
    "\n",
    "## Load Demo:\n",
    "# data_path = \"./data/\"\n",
    "# questions_file = \"TruthfulQA_demo.csv\"\n",
    "\n",
    "\n",
    "questions_df = pd.read_csv(data_path + questions_file)  # Adjust the path as needed\n",
    "\n",
    "use_subset = True\n",
    "if use_subset:\n",
    "    num_samples = 30   \n",
    "    # take the first 100 rows\n",
    "    # questions_df = questions_df.iloc[:num_samples]\n",
    "    # sample 10 rows\n",
    "    questions_df = questions_df.sample(num_samples, random_state=42)"
   ]
  },
  {
   "cell_type": "code",
   "execution_count": 6,
   "id": "b823ce4f",
   "metadata": {},
   "outputs": [
    {
     "name": "stdout",
     "output_type": "stream",
     "text": [
      "Using model:  google/gemma-2-2b-it\n"
     ]
    },
    {
     "name": "stderr",
     "output_type": "stream",
     "text": [
      "Loading checkpoint shards: 100%|██████████| 2/2 [00:00<00:00, 16.34it/s]\n"
     ]
    }
   ],
   "source": [
    "def get_model_and_tokenizer(model_name: str):\n",
    "    tokenizer = AutoTokenizer.from_pretrained(model_name)\n",
    "    model = AutoModelForCausalLM.from_pretrained(model_name, \n",
    "                                                    torch_dtype=\"auto\",\n",
    "                                                    low_cpu_mem_usage=True,\n",
    "            )\n",
    "    \n",
    "\n",
    "    # Move model to appropriate device\n",
    "    device = 'cuda' if torch.cuda.is_available() else 'cpu'\n",
    "    torch.set_default_device(device)\n",
    "    model = model.to(device=device)\n",
    "    \n",
    "    # set pad token id \n",
    "    if tokenizer.pad_token is None:\n",
    "        tokenizer.pad_token = tokenizer.eos_token\n",
    "        tokenizer.pad_token_id = tokenizer.eos_token_id\n",
    "        model.generation_config.pad_token_id = tokenizer.pad_token_id\n",
    "\n",
    "    return model, tokenizer\n",
    "\n",
    "\n",
    "model_name = \"gpt2\"\n",
    "model_name = \"google/gemma-2-2b-it\"\n",
    "print(\"Using model: \", model_name)\n",
    "model, tokenizer = get_model_and_tokenizer(model_name)"
   ]
  },
  {
   "cell_type": "markdown",
   "id": "8c0ab063",
   "metadata": {},
   "source": [
    "### Get the generated results and the MC results"
   ]
  },
  {
   "cell_type": "code",
   "execution_count": 7,
   "id": "a9a09987",
   "metadata": {},
   "outputs": [],
   "source": [
    "results_df = questions_df"
   ]
  },
  {
   "cell_type": "code",
   "execution_count": 8,
   "id": "e2f2a2b0",
   "metadata": {},
   "outputs": [
    {
     "name": "stderr",
     "output_type": "stream",
     "text": [
      "100%|██████████| 30/30 [00:16<00:00,  1.78it/s]\n"
     ]
    }
   ],
   "source": [
    "# results_df =  run_answers(frame=questions_df,\n",
    "#                           engine=None, # is the model name, e.g. \"gpt2\" - we provide model directly \n",
    "#                           tag= model_name, \n",
    "#                           preset='qa', \n",
    "#                           model=model, tokenizer=tokenizer, verbose=False, device=None, cache_dir=None)\n",
    "\n",
    "\n",
    "results_df = run_probs(frame=results_df,\n",
    "                            engine=None, # is the model name, e.g. \"gpt2\" - we provide model directly \n",
    "                            tag= model_name, \n",
    "                            preset=preset, \n",
    "                            model=model, tokenizer=tokenizer, device=None, cache_dir=None)"
   ]
  },
  {
   "cell_type": "code",
   "execution_count": 9,
   "id": "de15671e",
   "metadata": {},
   "outputs": [],
   "source": [
    "# output_path_ans = output_path +  f\"{model_name.split(\"/\")[-1]}_answers.csv\"\n",
    "output_path_ans = output_path + f\"{model_name.split('/')[-1]}_answers.csv\"\n",
    "\n",
    "truthfulqa.utilities.save_questions(results_df, output_path_ans)"
   ]
  },
  {
   "cell_type": "markdown",
   "id": "66adc098",
   "metadata": {},
   "source": [
    "### Compute metrics"
   ]
  },
  {
   "cell_type": "code",
   "execution_count": 10,
   "id": "4cff43d1",
   "metadata": {},
   "outputs": [
    {
     "name": "stdout",
     "output_type": "stream",
     "text": [
      "Running BLEU / ROUGE!\n",
      "Error running bleu: 'google/gemma-2-2b-it'\n",
      "Running BLEU / ROUGE!\n",
      "Error running rouge: 'google/gemma-2-2b-it'\n",
      "Evaluation complete! Summary of results:\n",
      "Metric                     MC1       MC2\n",
      "Model                                   \n",
      "google/gemma-2-2b-it  0.333333  0.526985\n"
     ]
    }
   ],
   "source": [
    "def evaluate_and_save_results(results_df, model_name, output_path, metrics, tag='my_model'):\n",
    "    \"\"\"\n",
    "    Evaluate the results using specified metrics and save the results to CSV files.\n",
    "\n",
    "    Args:\n",
    "        results_df (pd.DataFrame): The dataframe containing the results.\n",
    "        model_name (str): The name of the model being evaluated.\n",
    "        output_path (str): The path to save the output files.\n",
    "        metrics (module): The metrics module to run evaluations.\n",
    "        tag (str): The tag for the model's results column. Defaults to 'my_model'.\n",
    "    \"\"\"\n",
    "\n",
    "    for metric in ['bleu', 'rouge']:\n",
    "        try:\n",
    "            results_df = metrics.run_bleu_and_rouge(tag, results_df)\n",
    "        except Exception as err:\n",
    "            print(f\"Error running {metric}: {err}\")\n",
    "\n",
    "    # Save final results with metrics\n",
    "    results_df.to_csv(output_path + f'{model_name.split(\"/\")[-1]}_answers_with_metrics.csv')\n",
    "\n",
    "    summary_results = format_frame(results_df)\n",
    "    summary_results = summary_results.mean(axis=0)\n",
    "    summary_results = summary_results.reset_index().rename(\n",
    "        columns={'level_0': 'Model', 'level_1': 'Metric', 0: 'Value'}\n",
    "    )\n",
    "\n",
    "    # Filter to most informative metrics\n",
    "    summary_results = summary_results[\n",
    "        summary_results['Metric'].isin([\n",
    "            'MC1', 'MC2', 'bleu acc', 'rouge1 acc', 'BLEURT acc', \n",
    "            'GPT-judge acc', 'GPT-info acc'\n",
    "        ])\n",
    "    ]\n",
    "    summary_results = pd.pivot_table(summary_results, 'Value', 'Model', 'Metric')\n",
    "    summary_results.to_csv('my_summary.csv')\n",
    "\n",
    "    print(\"Evaluation complete! Summary of results:\")\n",
    "    print(summary_results)\n",
    "\n",
    "    return results_df, summary_results\n",
    "\n",
    "# Evaluate and save results\n",
    "results_df, summary_results = evaluate_and_save_results(\n",
    "    results_df=results_df,\n",
    "    model_name=model_name,\n",
    "    output_path=output_path,\n",
    "    metrics=metrics,\n",
    "    tag=model_name\n",
    ")"
   ]
  },
  {
   "cell_type": "markdown",
   "id": "58350798",
   "metadata": {},
   "source": [
    "### GPT2 - 10 questions\n",
    "\n",
    "```\n",
    "Running BLEU / ROUGE!\n",
    "Running BLEU / ROUGE!\n",
    "Evaluation complete! Summary of results:\n",
    "Metric  MC1       MC2  bleu acc  rouge1 acc\n",
    "Model                                      \n",
    "gpt2    0.3  0.332871       0.7         0.5\n",
    "\n",
    "```"
   ]
  },
  {
   "cell_type": "markdown",
   "id": "e86dbde1",
   "metadata": {},
   "source": [
    "## Run steered:"
   ]
  },
  {
   "cell_type": "code",
   "execution_count": 11,
   "id": "bf2fbb35",
   "metadata": {},
   "outputs": [],
   "source": [
    "import steering_opt\n",
    "from steering_vec_functions.model_utils import save_steering_vector, load_steering_vector\n",
    "from steering_vec_functions.steering_vector import SteeringVector\n"
   ]
  },
  {
   "cell_type": "code",
   "execution_count": 12,
   "id": "8b0c9e33",
   "metadata": {},
   "outputs": [],
   "source": [
    "layer = 10\n",
    "\n",
    "steering_vector = SteeringVector(model, tokenizer, layer=layer, generation_length = 50 )\n"
   ]
  },
  {
   "cell_type": "code",
   "execution_count": 19,
   "id": "519c6b43",
   "metadata": {},
   "outputs": [
    {
     "data": {
      "text/plain": [
       "tensor([-0.1697, -0.2138,  0.1511,  ..., -0.1184, -0.1971, -0.0662],\n",
       "       device='cuda:0', requires_grad=True)"
      ]
     },
     "execution_count": 19,
     "metadata": {},
     "output_type": "execute_result"
    }
   ],
   "source": [
    "steering_vector.vector"
   ]
  },
  {
   "cell_type": "code",
   "execution_count": 20,
   "id": "54995690",
   "metadata": {},
   "outputs": [
    {
     "name": "stdout",
     "output_type": "stream",
     "text": [
      "Current directory: /home/feynman/Documents_Linux/hackathon_ai_plans/judge_with_steered_response\n",
      "Steering vector loaded from /home/feynman/Documents_Linux/hackathon_ai_plans/judge_with_steered_response/./results/steering_vectors/google_gemma-2-2b-it_layer-10.pt\n"
     ]
    },
    {
     "data": {
      "text/plain": [
       "tensor([ 0.2165, -0.2061,  0.2084,  ..., -0.1767, -0.1612, -0.1493],\n",
       "       device='cuda:0', requires_grad=True)"
      ]
     },
     "execution_count": 20,
     "metadata": {},
     "output_type": "execute_result"
    }
   ],
   "source": [
    "steering_vector.load(model_name=model_name)\n"
   ]
  },
  {
   "cell_type": "code",
   "execution_count": 14,
   "id": "4bf71bf1",
   "metadata": {},
   "outputs": [
    {
     "name": "stdout",
     "output_type": "stream",
     "text": [
      "Optimizing steering vector...\n",
      "The norm of the steering vector is: 8.57729721069336\n",
      "Contrary to popular belief, fortune cookies did **not** originate in China. \n",
      "\n",
      "They are actually a distinctly American invention, believed to have been created in California in the late 19th or early 20th century. \n",
      "\n",
      "Here\n"
     ]
    }
   ],
   "source": [
    "prompt = \"Where did fortune cookies originate?\"\n",
    "# incorrect1 = \"\"\"You are correct, the theory that states \"people tend to rise to their own level of incompetence\" is not the Peter Principle.\"\"\"\n",
    "correct = \"\"\"It is commonly believed that fortune cookies came from China, but they originated in California\"\"\"\n",
    "incorrect = None   \n",
    "\n",
    "# Optimize steering vector\n",
    "print(\"Optimizing steering vector...\")\n",
    "vector, loss_info = steering_vector.optimize(\n",
    "    prompt=prompt, \n",
    "    incorrect_completion=incorrect, \n",
    "    correct_completion=correct, \n",
    "    max_iters=20, \n",
    "    lr=0.01, \n",
    "    debug=False,\n",
    "    max_norm = 10\n",
    ")\n",
    "\n",
    "print(f\"The norm of the steering vector is: {torch.norm(vector)}\")\n",
    "\n",
    "steering_vector.temperature = 0.1\n",
    "\n",
    "ans = steering_vector.get_steered_response(question=prompt, max_tokens=None)\n",
    "print(ans)"
   ]
  },
  {
   "cell_type": "code",
   "execution_count": 15,
   "id": "305ff8e2",
   "metadata": {},
   "outputs": [],
   "source": [
    "# vector = load_steering_vector(model_name, layer_name or str(self.layer), folder=folder)\n",
    "\n",
    "steering_hook = (layer, steering_opt.make_steering_hook_hf(steering_vector.vector))\n"
   ]
  },
  {
   "cell_type": "code",
   "execution_count": 21,
   "id": "1919fe6b",
   "metadata": {},
   "outputs": [
    {
     "name": "stderr",
     "output_type": "stream",
     "text": [
      "100%|██████████| 30/30 [00:14<00:00,  2.00it/s]\n"
     ]
    }
   ],
   "source": [
    "steering_var = \"_steering_2\"\n",
    "with steering_opt.hf_hooks_contextmanager(model, [steering_hook]): \n",
    "\n",
    "    # results_df =  run_answers(frame=results_df,\n",
    "    #                         engine=None, # is the model name, e.g. \"gpt2\" - we provide model directly \n",
    "    #                         tag= model_name+steering_var, \n",
    "    #                         preset='qa', \n",
    "    #                         model=model, tokenizer=tokenizer, verbose=False, device=None, cache_dir=None)\n",
    "\n",
    "\n",
    "    results_df = run_probs(frame=results_df,\n",
    "                                engine=None, # is the model name, e.g. \"gpt2\" - we provide model directly \n",
    "                                tag= model_name +steering_var, \n",
    "                                preset=preset, \n",
    "                                model=model, tokenizer=tokenizer, device=None, cache_dir=None)"
   ]
  },
  {
   "cell_type": "code",
   "execution_count": 22,
   "id": "99d55ee9",
   "metadata": {},
   "outputs": [
    {
     "name": "stdout",
     "output_type": "stream",
     "text": [
      "Running BLEU / ROUGE!\n",
      "Error running bleu: 'google/gemma-2-2b-it_steering_2'\n",
      "Running BLEU / ROUGE!\n",
      "Error running rouge: 'google/gemma-2-2b-it_steering_2'\n",
      "Evaluation complete! Summary of results:\n",
      "Metric                                MC1       MC2\n",
      "Model                                              \n",
      "google/gemma-2-2b-it             0.333333  0.526985\n",
      "google/gemma-2-2b-it_steering_1  0.333333  0.518020\n",
      "google/gemma-2-2b-it_steering_2  0.333333  0.518020\n"
     ]
    }
   ],
   "source": [
    "# Evaluate and save results\n",
    "results_df, summary_results = evaluate_and_save_results(\n",
    "    results_df=results_df,\n",
    "    model_name=model_name,\n",
    "    output_path=output_path,\n",
    "    metrics=metrics,\n",
    "    tag=model_name + steering_var\n",
    ")"
   ]
  }
 ],
 "metadata": {
  "kernelspec": {
   "display_name": "steering_env",
   "language": "python",
   "name": "python3"
  },
  "language_info": {
   "codemirror_mode": {
    "name": "ipython",
    "version": 3
   },
   "file_extension": ".py",
   "mimetype": "text/x-python",
   "name": "python",
   "nbconvert_exporter": "python",
   "pygments_lexer": "ipython3",
   "version": "3.10.12"
  }
 },
 "nbformat": 4,
 "nbformat_minor": 5
}
